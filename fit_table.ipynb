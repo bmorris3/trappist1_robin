{
 "cells": [
  {
   "cell_type": "code",
   "execution_count": 51,
   "metadata": {},
   "outputs": [],
   "source": [
    "%matplotlib inline\n",
    "\n",
    "import matplotlib.pyplot as plt\n",
    "import numpy as np\n",
    "from astropy.io import ascii\n",
    "from astropy.table import Table"
   ]
  },
  {
   "cell_type": "code",
   "execution_count": 52,
   "metadata": {},
   "outputs": [],
   "source": [
    "class Params(object):\n",
    "    def __init__(self):\n",
    "        pass\n",
    "    \n",
    "targets = ['TRAPPIST-1 {0}'.format(s) for s in list('bcdefgh')]\n",
    "\n",
    "def quadratic_to_kipping(u):\n",
    "    q1 = (u[0] + u[1])**2\n",
    "    q2 = 0.5 * u[0] / (u[0] + u[1])\n",
    "    return np.array([q1, q2])"
   ]
  },
  {
   "cell_type": "code",
   "execution_count": 53,
   "metadata": {},
   "outputs": [],
   "source": [
    "from collections import OrderedDict\n",
    "\n",
    "shapes = OrderedDict([['{0}_samples.txt'.format(s.lower().replace('-', '').replace(' ', '')), [8, 20, 10000]] \n",
    "                      for s in targets])\n",
    "\n",
    "paths = OrderedDict([['{0}_samples.txt'.format(s.lower().replace('-', '').replace(' ', '')),  \n",
    "                      'r0, r1, q1, q2, a, inc, f0, t0'.split(', ')] \n",
    "                      for s in targets])"
   ]
  },
  {
   "cell_type": "code",
   "execution_count": 54,
   "metadata": {},
   "outputs": [],
   "source": [
    "from collections import OrderedDict\n",
    "\n",
    "# shapes = OrderedDict([['tres2_samples.txt', [5, 14, 10000]],\n",
    "#          ['hat7_samples_fix_ars_ld.txt', [9, 18, 5000]], \n",
    "#          ['hat11_samples_ld_nomask.txt', [8, 16, 10000]], \n",
    "#          ['kepler17_samples_ld.txt', [9, 18, 10000]], \n",
    "#          ['kepler39_samples_ld.txt', [9, 18, 10000]], \n",
    "#          ['kepler412_samples_ld.txt', [9, 18, 10000]], \n",
    "#          #['kepler435_samples.txt', 'r0, r1, b, t14, f0'.split(', ')], \n",
    "#          ['gj1214_samples.txt', [7, 14, 10000]], \n",
    "#          ['hd80606_samples.txt', [6, 30, 5000]], \n",
    "#          ['k2trappist1/trappist1b_samples.txt', [8, 20, 10000]],\n",
    "#          ['k2trappist1/trappist1c_samples.txt', [8, 30, 20000]]])\n",
    "\n",
    "# paths = OrderedDict([['tres2_samples.txt', 'r0, r1, b, t14, f0'.split(', ')],\n",
    "#          ['hat7_samples_fix_ars_ld.txt', 'r0, r1, a, i, f0, c1, c2, c3, c4'.split(', ')], \n",
    "#          ['hat11_samples_ld_nomask.txt', 'r0, r1, a, i, f0, t0, q1, q2'.split(', ')], \n",
    "#          ['kepler17_samples_ld.txt', 'r0, r1, M_star, R_star, inc, f0, t0, q1, q2'.split(', ')], \n",
    "#          ['kepler39_samples_ld.txt', 'r0, r1, M_star, R_star, inc, f0, t0, q1, q2'.split(', ')], \n",
    "#          ['kepler412_samples_ld.txt', 'r0, r1, M_star, R_star, inc, f0, t0, q1, q2'.split(', ')], \n",
    "#          #['kepler435_samples.txt', 'r0, r1, b, t14, f0'.split(', ')], \n",
    "#          ['gj1214_samples.txt', 'r0, r1, q1, q2, b, t14, f0'.split(', ')], \n",
    "#          ['hd80606_samples.txt', 'r0, r1, b, t14, f0, t0'.split(', ')], \n",
    "#          ['k2trappist1/trappist1b_samples.txt', 'r0, r1, q1, q2, b, t14, f0, t0'.split(', ')],\n",
    "#          ['k2trappist1/trappist1c_samples.txt', 'r0, r1, q1, q2, b, t14, f0, t0'.split(', ')]])"
   ]
  },
  {
   "cell_type": "code",
   "execution_count": 55,
   "metadata": {},
   "outputs": [
    {
     "name": "stdout",
     "output_type": "stream",
     "text": [
      "trappist1b_samples.txt [8, 20, 10000]\n",
      "trappist1c_samples.txt [8, 20, 10000]\n",
      "trappist1d_samples.txt [8, 20, 10000]\n",
      "trappist1e_samples.txt [8, 20, 10000]\n",
      "trappist1f_samples.txt [8, 20, 10000]\n",
      "trappist1g_samples.txt [8, 20, 10000]\n",
      "trappist1h_samples.txt [8, 20, 10000]\n"
     ]
    }
   ],
   "source": [
    "params = []\n",
    "for path, shape in zip(paths, shapes): \n",
    "    print(path, shapes[shape])\n",
    "    p = Params()\n",
    "    flatchain = np.loadtxt(path)\n",
    "    ndim, nwalkers, nsamples = shapes[shape]\n",
    "    chains = flatchain.reshape((nwalkers, nsamples, ndim))\n",
    "    samples_burnin = chains[:, -1000:, :].reshape((-1, ndim))\n",
    "    \n",
    "    for attr, col in zip(paths[path], samples_burnin.T): \n",
    "        setattr(p, attr, col)\n",
    "    \n",
    "    params.append(p)"
   ]
  },
  {
   "cell_type": "code",
   "execution_count": 56,
   "metadata": {},
   "outputs": [],
   "source": [
    "attrs_list = 'r0, r1, eps, sign, CI'.split(', ')\n",
    "# attrs_list = 'b'.split(', ')\n",
    "rows = []\n",
    "for target, param in zip(targets, params):\n",
    "    row = []\n",
    "    for attr in attrs_list:\n",
    "        if hasattr(param, attr):\n",
    "            l, m, u = np.percentile(getattr(param, attr), [16, 50, 84])\n",
    "            row.append([m, m-l, u-m])\n",
    "        elif attr == 'eps':\n",
    "            p1p02 = (param.r1/param.r0)**2\n",
    "            \n",
    "            l, m, u = np.percentile(1 - p1p02, [16, 50, 84])\n",
    "            row.append([m, m-l, u-m])\n",
    "\n",
    "        elif attr == 'sign':\n",
    "            if np.median(param.r1) > np.median(param.r0): \n",
    "                row.append('$p_0 < p_1$')\n",
    "            else: \n",
    "                row.append('$p_0 > p_1$')\n",
    "        elif attr == 'CI': \n",
    "            if np.median(param.r0) < np.median(param.r1): \n",
    "                #row.append('$p_0 < p_1$')\n",
    "                row.append(np.count_nonzero(param.r0 < np.median(param.r1))/len(param.r0))\n",
    "            else: \n",
    "                row.append(np.count_nonzero(param.r0 > np.median(param.r1))/len(param.r0))\n",
    "                #row.append('$p_0 > p_1$')            \n",
    "        else: \n",
    "            row.append(None)\n",
    "    rows.append(row)"
   ]
  },
  {
   "cell_type": "code",
   "execution_count": 57,
   "metadata": {},
   "outputs": [
    {
     "name": "stdout",
     "output_type": "stream",
     "text": [
      "[['TRAPPIST-1 b', '${0.04947}_{-0.01186}^{+0.01302}$', '${0.08493}_{-0.000492}^{+0.0004234}$', '${-1.942}_{-2.151}^{+1.085}$', '$p_0 < p_1$', '99.59\\\\%'], ['TRAPPIST-1 c', '${0.04417}_{-0.01807}^{+0.01412}$', '${0.0834}_{-0.0004485}^{+0.0003813}$', '${-2.562}_{-6.664}^{+1.508}$', '$p_0 < p_1$', '99.94\\\\%'], ['TRAPPIST-1 d', '${0.05905}_{-0.02818}^{+0.02442}$', '${0.06096}_{-0.0005848}^{+0.0005777}$', '${-0.06128}_{-2.843}^{+0.5222}$', '$p_0 < p_1$', '52.95\\\\%'], ['TRAPPIST-1 e', '${0.04067}_{-0.02555}^{+0.01593}$', '${0.06924}_{-0.0005269}^{+0.0004409}$', '${-1.891}_{-17.95}^{+1.388}$', '$p_0 < p_1$', '97.28\\\\%'], ['TRAPPIST-1 f', '${0.06651}_{-0.01404}^{+0.01369}$', '${0.07953}_{-0.0005425}^{+0.0005217}$', '${-0.4291}_{-0.866}^{+0.4405}$', '$p_0 < p_1$', '82.65\\\\%'], ['TRAPPIST-1 g', '${0.06707}_{-0.01326}^{+0.01241}$', '${0.08586}_{-0.0006008}^{+0.0005228}$', '${-0.6398}_{-0.8967}^{+0.4697}$', '$p_0 < p_1$', '93.45\\\\%'], ['TRAPPIST-1 h', '${0.02651}_{-0.01869}^{+0.02626}$', '${0.05758}_{-0.0008382}^{+0.0008506}$', '${-3.684}_{-49.59}^{+3.492}$', '$p_0 < p_1$', '88.05\\\\%']]\n"
     ]
    }
   ],
   "source": [
    "\n",
    "formatted_rows = []\n",
    "for target, row in zip(targets, rows):\n",
    "    formatted_row = []\n",
    "    formatted_row.append(target)\n",
    "    for parameter in row:\n",
    "        if type(parameter) is list:\n",
    "            #formatted_row.append(\"${{{0}}}_{{-{1}}}^{{+{2}}}$\".format(*list(map(lambda x: to_precision(x, 2), parameter))))\n",
    "            formatted_row.append(\"${{{0}}}_{{-{1}}}^{{+{2}}}$\".format(*list(map(lambda x: \"{0:.4g}\".format(x), parameter))))\n",
    "        elif type(parameter) is str: \n",
    "            formatted_row.append(parameter)\n",
    "        elif isinstance(parameter, float): \n",
    "            formatted_row.append(\"{0:.2f}\\%\".format(100*parameter))\n",
    "        else: \n",
    "            formatted_row.append(\"\")\n",
    "    formatted_rows.append(formatted_row)\n",
    "print(formatted_rows)"
   ]
  },
  {
   "cell_type": "code",
   "execution_count": 58,
   "metadata": {},
   "outputs": [
    {
     "data": {
      "text/plain": [
       "(6, 6)"
      ]
     },
     "execution_count": 58,
     "metadata": {},
     "output_type": "execute_result"
    }
   ],
   "source": [
    "len(['Target'] + attrs_list), len(formatted_rows[0])"
   ]
  },
  {
   "cell_type": "code",
   "execution_count": 59,
   "metadata": {},
   "outputs": [],
   "source": [
    "table = Table(rows=formatted_rows, names=['Target'] + attrs_list)"
   ]
  },
  {
   "cell_type": "code",
   "execution_count": 60,
   "metadata": {},
   "outputs": [
    {
     "data": {
      "text/html": [
       "&lt;Table length=7&gt;\n",
       "<table id=\"table4496504592\" class=\"table-striped table-bordered table-condensed\">\n",
       "<thead><tr><th>Target</th><th>r0</th><th>r1</th><th>eps</th><th>sign</th><th>CI</th></tr></thead>\n",
       "<thead><tr><th>str12</th><th>str33</th><th>str37</th><th>str31</th><th>str11</th><th>str7</th></tr></thead>\n",
       "<tr><td>TRAPPIST-1 b</td><td>${0.04947}_{-0.01186}^{+0.01302}$</td><td>${0.08493}_{-0.000492}^{+0.0004234}$</td><td>${-1.942}_{-2.151}^{+1.085}$</td><td>$p_0 &lt; p_1$</td><td>99.59\\%</td></tr>\n",
       "<tr><td>TRAPPIST-1 c</td><td>${0.04417}_{-0.01807}^{+0.01412}$</td><td>${0.0834}_{-0.0004485}^{+0.0003813}$</td><td>${-2.562}_{-6.664}^{+1.508}$</td><td>$p_0 &lt; p_1$</td><td>99.94\\%</td></tr>\n",
       "<tr><td>TRAPPIST-1 d</td><td>${0.05905}_{-0.02818}^{+0.02442}$</td><td>${0.06096}_{-0.0005848}^{+0.0005777}$</td><td>${-0.06128}_{-2.843}^{+0.5222}$</td><td>$p_0 &lt; p_1$</td><td>52.95\\%</td></tr>\n",
       "<tr><td>TRAPPIST-1 e</td><td>${0.04067}_{-0.02555}^{+0.01593}$</td><td>${0.06924}_{-0.0005269}^{+0.0004409}$</td><td>${-1.891}_{-17.95}^{+1.388}$</td><td>$p_0 &lt; p_1$</td><td>97.28\\%</td></tr>\n",
       "<tr><td>TRAPPIST-1 f</td><td>${0.06651}_{-0.01404}^{+0.01369}$</td><td>${0.07953}_{-0.0005425}^{+0.0005217}$</td><td>${-0.4291}_{-0.866}^{+0.4405}$</td><td>$p_0 &lt; p_1$</td><td>82.65\\%</td></tr>\n",
       "<tr><td>TRAPPIST-1 g</td><td>${0.06707}_{-0.01326}^{+0.01241}$</td><td>${0.08586}_{-0.0006008}^{+0.0005228}$</td><td>${-0.6398}_{-0.8967}^{+0.4697}$</td><td>$p_0 &lt; p_1$</td><td>93.45\\%</td></tr>\n",
       "<tr><td>TRAPPIST-1 h</td><td>${0.02651}_{-0.01869}^{+0.02626}$</td><td>${0.05758}_{-0.0008382}^{+0.0008506}$</td><td>${-3.684}_{-49.59}^{+3.492}$</td><td>$p_0 &lt; p_1$</td><td>88.05\\%</td></tr>\n",
       "</table>"
      ],
      "text/plain": [
       "<Table length=7>\n",
       "   Target                    r0                ...     sign       CI  \n",
       "   str12                   str33               ...    str11      str7 \n",
       "------------ --------------------------------- ... ----------- -------\n",
       "TRAPPIST-1 b ${0.04947}_{-0.01186}^{+0.01302}$ ... $p_0 < p_1$ 99.59\\%\n",
       "TRAPPIST-1 c ${0.04417}_{-0.01807}^{+0.01412}$ ... $p_0 < p_1$ 99.94\\%\n",
       "TRAPPIST-1 d ${0.05905}_{-0.02818}^{+0.02442}$ ... $p_0 < p_1$ 52.95\\%\n",
       "TRAPPIST-1 e ${0.04067}_{-0.02555}^{+0.01593}$ ... $p_0 < p_1$ 97.28\\%\n",
       "TRAPPIST-1 f ${0.06651}_{-0.01404}^{+0.01369}$ ... $p_0 < p_1$ 82.65\\%\n",
       "TRAPPIST-1 g ${0.06707}_{-0.01326}^{+0.01241}$ ... $p_0 < p_1$ 93.45\\%\n",
       "TRAPPIST-1 h ${0.02651}_{-0.01869}^{+0.02626}$ ... $p_0 < p_1$ 88.05\\%"
      ]
     },
     "execution_count": 60,
     "metadata": {},
     "output_type": "execute_result"
    }
   ],
   "source": [
    "table"
   ]
  },
  {
   "cell_type": "code",
   "execution_count": 61,
   "metadata": {},
   "outputs": [
    {
     "data": {
      "text/plain": [
       "[None, None, None, None, None, None]"
      ]
     },
     "execution_count": 61,
     "metadata": {},
     "output_type": "execute_result"
    }
   ],
   "source": [
    "[table.rename_column(old, new) for old, new in zip(table.colnames, ['Target', '$p_0$', '$p_1$', '$\\epsilon$', 'Condition', \"CI\"])]"
   ]
  },
  {
   "cell_type": "code",
   "execution_count": 62,
   "metadata": {},
   "outputs": [],
   "source": [
    "table['Target'] = [s[-1] for s in table['Target']]"
   ]
  },
  {
   "cell_type": "code",
   "execution_count": 63,
   "metadata": {},
   "outputs": [],
   "source": [
    "ascii.write(table, format='aastex', output='/Users/bmmorris/Dropbox/Apps/ShareLaTeX/trappist1_robin/results.tex',\n",
    "            latexdict={'col_align': 'lccccr', 'tabletype': 'deluxetable*'}, overwrite=True)"
   ]
  },
  {
   "cell_type": "code",
   "execution_count": null,
   "metadata": {},
   "outputs": [],
   "source": []
  }
 ],
 "metadata": {
  "kernelspec": {
   "display_name": "Python 3",
   "language": "python",
   "name": "python3"
  },
  "language_info": {
   "codemirror_mode": {
    "name": "ipython",
    "version": 3
   },
   "file_extension": ".py",
   "mimetype": "text/x-python",
   "name": "python",
   "nbconvert_exporter": "python",
   "pygments_lexer": "ipython3",
   "version": "3.5.4"
  }
 },
 "nbformat": 4,
 "nbformat_minor": 2
}
